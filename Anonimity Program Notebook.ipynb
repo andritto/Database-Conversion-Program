{
 "cells": [
  {
   "cell_type": "code",
   "execution_count": 1,
   "id": "8cdda50d-52ff-418f-9514-399db873a112",
   "metadata": {},
   "outputs": [],
   "source": [
    "from sqlalchemy import create_engine\n",
    "\n",
    "import pymysql\n",
    "\n",
    "import pandas as pd\n",
    "\n",
    "import hashlib\n",
    "\n",
    "import base64\n",
    "\n",
    "import pycountry_convert as pc\n",
    "\n",
    "import numpy as np"
   ]
  },
  {
   "cell_type": "markdown",
   "id": "54e73090-0d03-4944-aec5-a627d0cd4a1b",
   "metadata": {},
   "source": [
    "include libraries"
   ]
  },
  {
   "cell_type": "code",
   "execution_count": 2,
   "id": "bd660476-52c0-4972-83c6-c666ffc4ff46",
   "metadata": {},
   "outputs": [],
   "source": [
    "oldDb_username = 'root'\n",
    "oldDb_password = 'root'\n",
    "oldDb_host     = '127.0.0.1'\n",
    "oldDb_port     = '8889'\n",
    "oldDb_database = 'StudDB 2.0'"
   ]
  },
  {
   "cell_type": "code",
   "execution_count": 3,
   "id": "969e27cc-1d2b-4d3d-9b54-3cc922438c00",
   "metadata": {},
   "outputs": [],
   "source": [
    "arcDb_username = 'root'\n",
    "arcDb_password = 'root'\n",
    "arcDb_host     = '127.0.0.1'\n",
    "arcDb_port     = '8889'\n",
    "arcDb_database = 'archivDb'"
   ]
  },
  {
   "cell_type": "code",
   "execution_count": 4,
   "id": "cfb8e68a-4536-4a94-9145-f940bba39163",
   "metadata": {
    "tags": []
   },
   "outputs": [],
   "source": [
    "sqlEngine = create_engine('mysql+pymysql://' + oldDb_username + ':' + oldDb_password + '@' + oldDb_host + ':' + oldDb_port + '/' + oldDb_database, pool_recycle=3600)\n",
    "\n",
    "dbConnection = sqlEngine.connect()\n",
    "\n",
    "\n",
    " \n",
    "\n",
    "pd.set_option('display.expand_frame_repr', False) "
   ]
  },
  {
   "cell_type": "markdown",
   "id": "5c3a3531-1737-496a-9a61-7dab150de0fc",
   "metadata": {},
   "source": [
    "establish database connection"
   ]
  },
  {
   "cell_type": "code",
   "execution_count": 5,
   "id": "78f9c293-1afa-4715-a26b-b995c1d17712",
   "metadata": {},
   "outputs": [],
   "source": [
    "def hashCol (col):\n",
    "    return col.astype(str).str.encode('UTF-8')\\\n",
    "          .apply(lambda x: base64.b64encode(hashlib.sha1(x.lower()).digest()))"
   ]
  },
  {
   "cell_type": "markdown",
   "id": "955271b1-6380-4ae0-91e8-1d8a0333c7c3",
   "metadata": {},
   "source": [
    "create hashing function"
   ]
  },
  {
   "cell_type": "code",
   "execution_count": 6,
   "id": "c98d3089-a66a-4ed1-b227-3bad8ea338d4",
   "metadata": {},
   "outputs": [],
   "source": [
    "def countryMapper (x):\n",
    "    continents = {\n",
    "        'NA': 'North America',\n",
    "        'SA': 'South America', \n",
    "        'AS': 'Asia',\n",
    "        'OC': 'Oceania',\n",
    "        'AF': 'Africa',\n",
    "        'EU': 'Europe'\n",
    "        }\n",
    "    return continents[pc.country_alpha2_to_continent_code( pc.country_name_to_country_alpha2(x, cn_name_format=\"default\") )]\n",
    "\n",
    "def mapCountry (col):\n",
    "    return col.astype(str)\\\n",
    "          .apply(countryMapper)"
   ]
  },
  {
   "cell_type": "markdown",
   "id": "86d5da0f-0628-494f-bcef-8723e9d280d9",
   "metadata": {},
   "source": [
    "create country mapper to continent"
   ]
  },
  {
   "cell_type": "code",
   "execution_count": 7,
   "id": "4e7095a9-6564-4e57-b582-8e53cd0d87cf",
   "metadata": {},
   "outputs": [],
   "source": [
    "query = \"\"\"SELECT\n",
    "  `user`.`firstname` AS 'student_firstname',\n",
    "  `user`.`lastname`  AS 'student_lastname',\n",
    "  YEAR(`student`.`birthdate`) AS 'birth_year',\n",
    "  IF(`user`.`salutation_id` = 1, 'Female',\n",
    "          IF(`user`.`salutation_id` = 2, 'Male', NULL)\n",
    "    ) AS 'salutation',\n",
    "  `country`.`name` AS 'nationality',\n",
    "\n",
    "  `home_university`.`abbreviation` AS 'home_university',\n",
    "  `home_degree`.`abbreviation` AS 'home_degree',\n",
    "  `home_course`.`name` AS 'home_program',\n",
    "  `study_home`.`home_semester` AS 'semester',\n",
    "\n",
    "  `host_university`.`abbreviation` AS 'abroad_university',\n",
    "  if(`application`.`intention_id` = 1, 'Exchange', 'Double Degree') AS 'type_of_transfer',\n",
    "  `host_degree`.`abbreviation` AS 'abroad_degree',\n",
    "  `host_course`.`name` AS 'abroad_program',\n",
    "\n",
    "  IF(`student`.`student_status_id` = 4, 'Alumni', 'Dropout') AS 'overall_status',\n",
    "  `exchange_period`.`exchange_semester` AS 'start_of_transfer',\n",
    "  `study_home`.`home_cgpa` AS 'average_grade',\n",
    "  `study_host`.`foreign_num_planed_exams` AS 'number_planned_exams',\n",
    "\n",
    "  `study_host`.`foreign_matno` AS 'abroad_mat_no',\n",
    "  `exchange_period`.`semester_end` AS 'exchange_semester_end',\n",
    "  `exchange_period`.`semester_begin` AS 'exchange_semester_start'\n",
    "FROM `student`\n",
    "\n",
    "# Join for user related datas\n",
    "JOIN `user`\n",
    "  ON `user`.`user_id` = `student`.`user_id`\n",
    "\n",
    "JOIN `country`\n",
    "  ON `country`.`country_id` = `student`.`nationality_country_id`\n",
    "\n",
    "JOIN `application`\n",
    "  ON `application`.`student_id` = `student`.`student_id`\n",
    "\n",
    "# Join for home study datas\n",
    "JOIN `study_home`\n",
    "  ON `study_home`.`application_id` = `application`.`application_id`\n",
    "\n",
    "JOIN `university` AS `home_university`\n",
    "  ON `home_university`.`university_id` = `study_home`.`home_university_id`\n",
    "\n",
    "JOIN `degree` AS `home_degree`\n",
    "  ON `home_degree`.`degree_id` = `study_home`.`home_degree_id`\n",
    "\n",
    "JOIN `course` AS `home_course`\n",
    "  ON `home_course`.`course_id` = `study_home`.`home_course_id`\n",
    "\n",
    "# Join for foreign studies\n",
    "LEFT JOIN `exchange`\n",
    "  ON `exchange`.`application_id` = `application`.`application_id`\n",
    "\n",
    "LEFT JOIN `study_host`\n",
    "  ON `study_host`.`exchange_id` = `exchange`.`exchange_id`\n",
    "\n",
    "LEFT JOIN `university` AS `host_university`\n",
    "  ON `host_university`.`university_id` = `study_host`.`foreign_uni_id`\n",
    "\n",
    "LEFT JOIN `degree` AS `host_degree`\n",
    "  ON `host_degree`.`degree_id` = `study_host`.`foreign_degree_id`\n",
    "\n",
    "LEFT JOIN `course` AS `host_course`\n",
    "  ON `host_course`.`course_id` = `study_host`.`foreign_course_id`\n",
    "\n",
    "\n",
    "LEFT JOIN `exchange_period`\n",
    "  ON `exchange_period`.`period_id` = `application`.`exchange_period_id`\n",
    "\n",
    "WHERE\n",
    "  `student`.`student_status_id` >= 4\"\"\""
   ]
  },
  {
   "cell_type": "markdown",
   "id": "da2ab02a-15a4-4a0a-86de-4cdb9e8564b1",
   "metadata": {},
   "source": [
    "retrieve from StudDB 2.0 (status= alumni or dropout) with all of the corresponding data"
   ]
  },
  {
   "cell_type": "code",
   "execution_count": 8,
   "id": "441274fe-dc7c-4c4d-9fe4-b9a458c15187",
   "metadata": {},
   "outputs": [
    {
     "data": {
      "text/html": [
       "<div>\n",
       "<style scoped>\n",
       "    .dataframe tbody tr th:only-of-type {\n",
       "        vertical-align: middle;\n",
       "    }\n",
       "\n",
       "    .dataframe tbody tr th {\n",
       "        vertical-align: top;\n",
       "    }\n",
       "\n",
       "    .dataframe thead th {\n",
       "        text-align: right;\n",
       "    }\n",
       "</style>\n",
       "<table border=\"1\" class=\"dataframe\">\n",
       "  <thead>\n",
       "    <tr style=\"text-align: right;\">\n",
       "      <th></th>\n",
       "      <th>student_firstname</th>\n",
       "      <th>student_lastname</th>\n",
       "      <th>birth_year</th>\n",
       "      <th>salutation</th>\n",
       "      <th>nationality</th>\n",
       "      <th>home_university</th>\n",
       "      <th>home_degree</th>\n",
       "      <th>home_program</th>\n",
       "      <th>semester</th>\n",
       "      <th>abroad_university</th>\n",
       "      <th>type_of_transfer</th>\n",
       "      <th>abroad_degree</th>\n",
       "      <th>abroad_program</th>\n",
       "      <th>overall_status</th>\n",
       "      <th>start_of_transfer</th>\n",
       "      <th>average_grade</th>\n",
       "      <th>number_planned_exams</th>\n",
       "      <th>abroad_mat_no</th>\n",
       "      <th>study_time_months</th>\n",
       "    </tr>\n",
       "  </thead>\n",
       "  <tbody>\n",
       "    <tr>\n",
       "      <th>0</th>\n",
       "      <td>b'/gm8LvJzejJY+XjiYibcusGz+Ug='</td>\n",
       "      <td>b'Wvjx6d246a+4DIDt1ocMyx8J/oo='</td>\n",
       "      <td>1992</td>\n",
       "      <td>Male</td>\n",
       "      <td>South America</td>\n",
       "      <td>UDE</td>\n",
       "      <td>B.Sc.</td>\n",
       "      <td>Computer Engineering</td>\n",
       "      <td>8</td>\n",
       "      <td>ZZULI</td>\n",
       "      <td>Exchange</td>\n",
       "      <td>B.Sc.</td>\n",
       "      <td>Computer Engineering</td>\n",
       "      <td>Dropout</td>\n",
       "      <td>SS2021</td>\n",
       "      <td>3.7</td>\n",
       "      <td>10</td>\n",
       "      <td>b'hjGdEUtsDkGRB0+dpdEYvmJhr68='</td>\n",
       "      <td>7.006579</td>\n",
       "    </tr>\n",
       "    <tr>\n",
       "      <th>1</th>\n",
       "      <td>b'MrNJEzZSLgc0iXJbXa8pjNdJAHo='</td>\n",
       "      <td>b'Mo45Y4ExPBYgfrvjvuQ2OH19/D0='</td>\n",
       "      <td>1995</td>\n",
       "      <td>Female</td>\n",
       "      <td>Asia</td>\n",
       "      <td>NTU</td>\n",
       "      <td>B.Sc.</td>\n",
       "      <td>Computer Engineering</td>\n",
       "      <td>7</td>\n",
       "      <td>UDE</td>\n",
       "      <td>Exchange</td>\n",
       "      <td>B.Sc.</td>\n",
       "      <td>Computer Engineering</td>\n",
       "      <td>Alumni</td>\n",
       "      <td>None</td>\n",
       "      <td>1.7</td>\n",
       "      <td>0</td>\n",
       "      <td>b'mYK/ISEtR/+4A0ghG6JGAGjcwx0='</td>\n",
       "      <td>NaN</td>\n",
       "    </tr>\n",
       "  </tbody>\n",
       "</table>\n",
       "</div>"
      ],
      "text/plain": [
       "                 student_firstname                 student_lastname  birth_year salutation    nationality home_university home_degree          home_program  semester abroad_university type_of_transfer abroad_degree        abroad_program overall_status start_of_transfer  average_grade  number_planned_exams                    abroad_mat_no  study_time_months\n",
       "0  b'/gm8LvJzejJY+XjiYibcusGz+Ug='  b'Wvjx6d246a+4DIDt1ocMyx8J/oo='        1992       Male  South America             UDE       B.Sc.  Computer Engineering         8             ZZULI         Exchange         B.Sc.  Computer Engineering        Dropout            SS2021            3.7                    10  b'hjGdEUtsDkGRB0+dpdEYvmJhr68='           7.006579\n",
       "1  b'MrNJEzZSLgc0iXJbXa8pjNdJAHo='  b'Mo45Y4ExPBYgfrvjvuQ2OH19/D0='        1995     Female           Asia             NTU       B.Sc.  Computer Engineering         7               UDE         Exchange         B.Sc.  Computer Engineering         Alumni              None            1.7                     0  b'mYK/ISEtR/+4A0ghG6JGAGjcwx0='                NaN"
      ]
     },
     "execution_count": 8,
     "metadata": {},
     "output_type": "execute_result"
    }
   ],
   "source": [
    "frame = pd.read_sql(query, dbConnection);\n",
    "cols = ['student_firstname','student_lastname','abroad_mat_no']\n",
    "for col in cols:\n",
    "    frame[col] = hashCol(frame[col])\n",
    "frame['nationality'] = mapCountry(frame['nationality'])\n",
    "frame['exchange_semester_start'] =  pd.to_datetime(frame['exchange_semester_start'], format='%Y-%m-%d')\n",
    "frame['exchange_semester_end'] =  pd.to_datetime(frame['exchange_semester_end'], format='%Y-%m-%d')\n",
    "frame['study_time_months'] = (frame['exchange_semester_end'] - frame['exchange_semester_start']).dt.days/30.4\n",
    "frame = frame.drop(['exchange_semester_start', 'exchange_semester_end'], axis=1)\n",
    "frame.head(10)"
   ]
  },
  {
   "cell_type": "markdown",
   "id": "781f03ab-a3fb-41f4-b83a-c376ae30a555",
   "metadata": {},
   "source": [
    "anonymize and process the data for archival"
   ]
  },
  {
   "cell_type": "code",
   "execution_count": 9,
   "id": "ea19a9d8-4c2a-46b3-b5ff-410fbda75158",
   "metadata": {},
   "outputs": [],
   "source": [
    "dbConnection.close()"
   ]
  },
  {
   "cell_type": "markdown",
   "id": "44739767-5cf3-4df9-9b92-3aa4612dbdab",
   "metadata": {},
   "source": [
    "close connection to StudDB 2.0"
   ]
  },
  {
   "cell_type": "code",
   "execution_count": 10,
   "id": "58b0ac8c-e822-4cc9-acd5-7014e8b7d0e0",
   "metadata": {},
   "outputs": [],
   "source": [
    "sqlEngine = create_engine('mysql+pymysql://' + arcDb_username + ':' + arcDb_password + '@' + arcDb_host + ':' + arcDb_port + '/' + arcDb_database, pool_recycle=3600)\n",
    "\n",
    "dbConnection = sqlEngine.connect()"
   ]
  },
  {
   "cell_type": "markdown",
   "id": "bb331056-a208-4702-8af8-0244d0de5f3c",
   "metadata": {},
   "source": [
    "establish connection with archivDB"
   ]
  },
  {
   "cell_type": "code",
   "execution_count": 11,
   "id": "57359031-8061-42e9-8b72-9a3e7c0d8518",
   "metadata": {},
   "outputs": [],
   "source": [
    "try:\n",
    "\n",
    "    frame.to_sql('inactive_students', dbConnection, if_exists='append', index=False);\n",
    "\n",
    "except ValueError as vx:\n",
    "\n",
    "    print(vx)\n",
    "\n",
    "except Exception as ex:   \n",
    "\n",
    "    print(ex) \n",
    "\n",
    "finally:\n",
    "\n",
    "    dbConnection.close()"
   ]
  },
  {
   "cell_type": "markdown",
   "id": "00bc504c-fd44-41c8-89ea-62b823553f40",
   "metadata": {},
   "source": [
    "place the processed data into the archivDB in inactive_students table"
   ]
  },
  {
   "cell_type": "code",
   "execution_count": 12,
   "id": "91123f0b-3436-40ef-965e-335e5a99fc21",
   "metadata": {},
   "outputs": [],
   "source": [
    "sqlEngine = create_engine('mysql+pymysql://' + oldDb_username + ':' + oldDb_password + '@' + oldDb_host + ':' + oldDb_port + '/' + oldDb_database, pool_recycle=3600)\n",
    "\n",
    "dbConnection = sqlEngine.connect()\n",
    "\n",
    "# Cleanup script\n",
    "dbConnection.execute('DELETE FROM `student` WHERE `student`.`student_status_id` >= 4')\n",
    "dbConnection.close()"
   ]
  },
  {
   "cell_type": "markdown",
   "id": "93836d3e-95e3-429b-b421-8d671aad095f",
   "metadata": {},
   "source": [
    "cleanup the script & drop corresponding data"
   ]
  }
 ],
 "metadata": {
  "kernelspec": {
   "display_name": "Python 3",
   "language": "python",
   "name": "python3"
  },
  "language_info": {
   "codemirror_mode": {
    "name": "ipython",
    "version": 3
   },
   "file_extension": ".py",
   "mimetype": "text/x-python",
   "name": "python",
   "nbconvert_exporter": "python",
   "pygments_lexer": "ipython3",
   "version": "3.8.8"
  }
 },
 "nbformat": 4,
 "nbformat_minor": 5
}
